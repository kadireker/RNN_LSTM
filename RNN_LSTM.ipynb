{
  "nbformat": 4,
  "nbformat_minor": 0,
  "metadata": {
    "colab": {
      "name": "RNN_LSTM.ipynb",
      "provenance": [],
      "collapsed_sections": [],
      "include_colab_link": true
    },
    "kernelspec": {
      "name": "python3",
      "display_name": "Python 3"
    },
    "language_info": {
      "name": "python"
    }
  },
  "cells": [
    {
      "cell_type": "markdown",
      "metadata": {
        "id": "view-in-github",
        "colab_type": "text"
      },
      "source": [
        "<a href=\"https://colab.research.google.com/github/kadireker/RNN_LSTM/blob/main/RNN_LSTM.ipynb\" target=\"_parent\"><img src=\"https://colab.research.google.com/assets/colab-badge.svg\" alt=\"Open In Colab\"/></a>"
      ]
    },
    {
      "cell_type": "code",
      "metadata": {
        "colab": {
          "base_uri": "https://localhost:8080/"
        },
        "id": "wpCy6qps2cc8",
        "outputId": "57f901be-5822-49f4-ff19-b701987fa7ef"
      },
      "source": [
        "import numpy as np\n",
        "import pandas as pd\n",
        "from tensorflow.python.keras.models import Sequential\n",
        "from tensorflow.python.keras.layers import Dense, Embedding,LSTM\n",
        "from tensorflow.python.keras.preprocessing.text import Tokenizer\n",
        "from tensorflow.python.keras.preprocessing.sequence import pad_sequences\n",
        "from tensorflow.python.keras.models import load_model\n",
        "from tensorflow.keras.optimizers import Adam\n",
        "from sklearn.model_selection import train_test_split\n",
        "import re\n",
        "import nltk\n",
        "nltk.download('punkt')\n",
        "nltk.download('stopwords')"
      ],
      "execution_count": null,
      "outputs": [
        {
          "output_type": "stream",
          "text": [
            "[nltk_data] Downloading package punkt to /root/nltk_data...\n",
            "[nltk_data]   Package punkt is already up-to-date!\n",
            "[nltk_data] Downloading package stopwords to /root/nltk_data...\n",
            "[nltk_data]   Package stopwords is already up-to-date!\n"
          ],
          "name": "stdout"
        },
        {
          "output_type": "execute_result",
          "data": {
            "text/plain": [
              "True"
            ]
          },
          "metadata": {
            "tags": []
          },
          "execution_count": 69
        }
      ]
    },
    {
      "cell_type": "markdown",
      "metadata": {
        "id": "Ps-PQKz6MYcu"
      },
      "source": [
        "StopWords"
      ]
    },
    {
      "cell_type": "code",
      "metadata": {
        "id": "euJ075S127dS"
      },
      "source": [
        "WPT = nltk.WordPunctTokenizer()\n",
        "stopwordlist = nltk.corpus.stopwords.words('turkish')\n",
        "stopwordlist"
      ],
      "execution_count": null,
      "outputs": []
    },
    {
      "cell_type": "code",
      "metadata": {
        "colab": {
          "base_uri": "https://localhost:8080/"
        },
        "id": "030c4gud9uUM",
        "outputId": "0dfae3ae-b6bb-459e-fb6a-a34b9c1756c4"
      },
      "source": [
        "import random as r\n",
        "dataset = pd.read_excel('/content/drive/MyDrive/TurkishTweets.xlsx' )\n",
        "dataset.Tweet= dataset.Tweet.apply(str)\n",
        "dataset\n",
        "type(dataset)"
      ],
      "execution_count": null,
      "outputs": [
        {
          "output_type": "execute_result",
          "data": {
            "text/plain": [
              "pandas.core.frame.DataFrame"
            ]
          },
          "metadata": {
            "tags": []
          },
          "execution_count": 72
        }
      ]
    },
    {
      "cell_type": "code",
      "metadata": {
        "id": "ub6qxXnRINzy"
      },
      "source": [
        "dataset"
      ],
      "execution_count": null,
      "outputs": []
    },
    {
      "cell_type": "code",
      "metadata": {
        "id": "biuQBUr7IgFe"
      },
      "source": [
        "dataset.info()"
      ],
      "execution_count": null,
      "outputs": []
    },
    {
      "cell_type": "markdown",
      "metadata": {
        "id": "_aeKpuRjMfDM"
      },
      "source": [
        "Remove Duplicate"
      ]
    },
    {
      "cell_type": "code",
      "metadata": {
        "id": "QDtXIOzsIoFQ"
      },
      "source": [
        "dataset.Etiket.value_counts()"
      ],
      "execution_count": null,
      "outputs": []
    },
    {
      "cell_type": "code",
      "metadata": {
        "id": "FomzZUazI9lc"
      },
      "source": [
        "dataset.Tweet.duplicated(keep=\"first\").value_counts()"
      ],
      "execution_count": null,
      "outputs": []
    },
    {
      "cell_type": "code",
      "metadata": {
        "id": "FRWvb9CCJBmu"
      },
      "source": [
        "dataset.drop_duplicates(subset=\"Tweet\",keep=\"first\",inplace=True,ignore_index=True)\n",
        "dataset.describe()"
      ],
      "execution_count": null,
      "outputs": []
    },
    {
      "cell_type": "markdown",
      "metadata": {
        "id": "tIc_y935MnKn"
      },
      "source": [
        "PreProcessing"
      ]
    },
    {
      "cell_type": "code",
      "metadata": {
        "id": "5xLlHdKMB332"
      },
      "source": [
        "# Noktalama işaretlerinin temizlenmesi\n",
        "dataset['Tweet'] =dataset['Tweet'].apply(lambda x: re.sub('[,\\.!?:()\"]', '', x))\n",
        "\n",
        "#Büyük harflerin küçük harflere çevrilmesi\n",
        "dataset['Tweet'] =dataset['Tweet'].apply(lambda x: x.lower())\n",
        "\n",
        "#Fazladan bulunan boşlukların temizlenmesi\n",
        "dataset['Tweet'] =dataset['Tweet'].apply(lambda x: x.strip())\n"
      ],
      "execution_count": null,
      "outputs": []
    },
    {
      "cell_type": "code",
      "metadata": {
        "colab": {
          "base_uri": "https://localhost:8080/"
        },
        "id": "lvVNo8mXM2oI",
        "outputId": "cb7058bd-5eda-4d3d-c315-81c0f235bcc0"
      },
      "source": [
        "from google.colab import drive\n",
        "drive.mount('/content/drive')"
      ],
      "execution_count": 1,
      "outputs": [
        {
          "output_type": "stream",
          "name": "stdout",
          "text": [
            "Mounted at /content/drive\n"
          ]
        }
      ]
    },
    {
      "cell_type": "code",
      "metadata": {
        "id": "CKGA3d8huOMC"
      },
      "source": [
        "#Verisetinde bulunan cümlelerdeki etkisiz kelimelerin kaldırılması\n",
        "def token(values):\n",
        "    words = nltk.tokenize.word_tokenize(values)\n",
        "    filtered_words = [word for word in words if word not in stopwordlist]\n",
        "    not_stopword_doc = \" \".join(filtered_words)\n",
        "    return not_stopword_doc\n",
        "dataset['Tweet'] = dataset['Tweet'].apply(lambda x: token(x))"
      ],
      "execution_count": null,
      "outputs": []
    },
    {
      "cell_type": "code",
      "metadata": {
        "colab": {
          "base_uri": "https://localhost:8080/"
        },
        "id": "LGGXJS1ICi40",
        "outputId": "a63d6ed3-b560-4377-e837-88ef525476dd"
      },
      "source": [
        "dataset['Tweet']"
      ],
      "execution_count": null,
      "outputs": [
        {
          "output_type": "execute_result",
          "data": {
            "text/plain": [
              "0       allah'ım çıldıracağım yemin ederim çıldıracağı...\n",
              "1       site zaman çalıştıda ürün stokları bitti diyor...\n",
              "2                    sebebi neydi bağıracağım şimdi kaldı\n",
              "3       black friday amk yıl çıkardınız bokuda mal mıs...\n",
              "4       kısa kısa cevaplar vericeksen yazıyorsun geriz...\n",
              "                              ...                        \n",
              "3925                      aynı şeyleri yapmaktan sıkıldım\n",
              "3926    olacağı varsa oluyor hani biteceği varsa bitsi...\n",
              "3927                      istiyorum sonu fiyasko mutsuzum\n",
              "3928        garip bir şekilde canım yanıyor moralim bozuk\n",
              "3929    üzgünüm birazdan takipten çıkarıp hesabımı giz...\n",
              "Name: Tweet, Length: 3930, dtype: object"
            ]
          },
          "metadata": {
            "tags": []
          },
          "execution_count": 78
        }
      ]
    },
    {
      "cell_type": "code",
      "metadata": {
        "id": "-iMHSF5Pkwdd"
      },
      "source": [
        "tweet = dataset['Tweet'].values.tolist()\n",
        "sentiment = dataset['Etiket'].values.tolist()\n",
        "for n, i in enumerate(sentiment):\n",
        "  if i == \"kızgın\":\n",
        "    sentiment[n]=0\n",
        "  if i == \"korku\":\n",
        "    sentiment[n]=1\n",
        "  if i == \"mutlu\":\n",
        "    sentiment[n]=2\n",
        "  if i == \"surpriz\":\n",
        "    sentiment[n]=3\n",
        "  if i == \"üzgün\":\n",
        "    sentiment[n]=4 \n",
        "x_train, x_test, y_train, y_test = train_test_split(tweet,sentiment,\n",
        "                                                    test_size = 0.2,\n",
        "                                                    random_state = 42)"
      ],
      "execution_count": null,
      "outputs": []
    },
    {
      "cell_type": "code",
      "metadata": {
        "id": "GKRFWchTgjs1"
      },
      "source": [
        "sentiment"
      ],
      "execution_count": null,
      "outputs": []
    },
    {
      "cell_type": "code",
      "metadata": {
        "id": "O0rsBRcUC-il"
      },
      "source": [
        "tokenizer = Tokenizer(num_words = 10000)\n",
        "tokenizer.fit_on_texts(tweet)\n",
        "tokenizer.word_index"
      ],
      "execution_count": null,
      "outputs": []
    },
    {
      "cell_type": "code",
      "metadata": {
        "id": "iTaJHOtMDFwz"
      },
      "source": [
        "x_train_tokens = tokenizer.texts_to_sequences(x_train)\n",
        "x_test_tokens = tokenizer.texts_to_sequences(x_test)"
      ],
      "execution_count": null,
      "outputs": []
    },
    {
      "cell_type": "code",
      "metadata": {
        "id": "J12YTf5GDHAP"
      },
      "source": [
        "num_tokens = [len(tokens) for tokens in x_train_tokens + x_test_tokens]\n",
        "num_tokens = np.array(num_tokens)"
      ],
      "execution_count": null,
      "outputs": []
    },
    {
      "cell_type": "code",
      "metadata": {
        "id": "w9ZIU-WyDJxl"
      },
      "source": [
        "max_tokens = np.mean(num_tokens) + 2 * np.std(num_tokens)\n",
        "max_tokens = int(max_tokens)"
      ],
      "execution_count": null,
      "outputs": []
    },
    {
      "cell_type": "code",
      "metadata": {
        "colab": {
          "base_uri": "https://localhost:8080/"
        },
        "id": "mJyFZxQcTTkc",
        "outputId": "84b1d5b8-e1dc-4430-9dee-501333e05284"
      },
      "source": [
        "max_tokens"
      ],
      "execution_count": null,
      "outputs": [
        {
          "output_type": "execute_result",
          "data": {
            "text/plain": [
              "14"
            ]
          },
          "metadata": {
            "tags": []
          },
          "execution_count": 85
        }
      ]
    },
    {
      "cell_type": "code",
      "metadata": {
        "colab": {
          "base_uri": "https://localhost:8080/"
        },
        "id": "K-jMKe_-DMMK",
        "outputId": "44cf0381-c870-4ffc-db51-ce0f9b146c3b"
      },
      "source": [
        "np.sum(num_tokens < max_tokens) / len(num_tokens)"
      ],
      "execution_count": null,
      "outputs": [
        {
          "output_type": "execute_result",
          "data": {
            "text/plain": [
              "0.9402035623409669"
            ]
          },
          "metadata": {
            "tags": []
          },
          "execution_count": 86
        }
      ]
    },
    {
      "cell_type": "code",
      "metadata": {
        "id": "rSaMozothjXP"
      },
      "source": [
        "x_train_padding = pad_sequences(x_train_tokens, maxlen=max_tokens)\n",
        "x_test_padding = pad_sequences(x_test_tokens, maxlen=max_tokens)"
      ],
      "execution_count": null,
      "outputs": []
    },
    {
      "cell_type": "code",
      "metadata": {
        "colab": {
          "base_uri": "https://localhost:8080/"
        },
        "id": "040Z8IE3DR3r",
        "outputId": "950f9221-1a91-4c0d-96e7-ccbd5775ac03"
      },
      "source": [
        "x_train_padding[15]"
      ],
      "execution_count": null,
      "outputs": [
        {
          "output_type": "execute_result",
          "data": {
            "text/plain": [
              "array([   0,    0,    0,    0, 7848, 7849,  516, 7850,  243,  410,   49,\n",
              "        560, 7851,   30], dtype=int32)"
            ]
          },
          "metadata": {
            "tags": []
          },
          "execution_count": 88
        }
      ]
    },
    {
      "cell_type": "code",
      "metadata": {
        "id": "fuPO1DoKhy_J"
      },
      "source": [
        "idx = tokenizer.word_index\n",
        "inverse_map = dict(zip(idx.values(), idx.keys()))\n",
        "def tokens_to_string(tokens):\n",
        "    words = [inverse_map[token] for token in tokens if token!=0]\n",
        "    text = ' '.join(words)\n",
        "    return text"
      ],
      "execution_count": null,
      "outputs": []
    },
    {
      "cell_type": "markdown",
      "metadata": {
        "id": "hmxHg2UYLY5i"
      },
      "source": [
        "#LSTM"
      ]
    },
    {
      "cell_type": "code",
      "metadata": {
        "colab": {
          "base_uri": "https://localhost:8080/"
        },
        "id": "tKAxKMWTDV1g",
        "outputId": "ca59945a-e5b5-4fee-b505-271b9814376e"
      },
      "source": [
        "\n",
        "model = Sequential()\n",
        "embedding_dim = 100\n",
        "model.add(Embedding(input_dim=10000,\n",
        "                    output_dim=embedding_dim,\n",
        "                    input_length=max_tokens,\n",
        "                    name='embedding_layer'))\n",
        "\n",
        "model.add(LSTM(units=32, return_sequences=True, dropout=0.4,\n",
        "               recurrent_dropout=0.2, ))\n",
        "\n",
        "model.add(LSTM(units=16, return_sequences=True, dropout=0.4,\n",
        "               recurrent_dropout=0.2))\n",
        "\n",
        "model.add(LSTM(units=8, dropout=0.4, recurrent_dropout=0.4, ))\n",
        "\n",
        "\n",
        "model.add(Dense(5, activation='softmax'))\n",
        "\n",
        "\n",
        "optimizer = Adam(lr=1e-3)\n",
        "\n",
        "model.compile(loss='sparse_categorical_crossentropy',\n",
        "              optimizer=optimizer,\n",
        "              metrics=['accuracy'])"
      ],
      "execution_count": null,
      "outputs": [
        {
          "output_type": "stream",
          "text": [
            "/usr/local/lib/python3.7/dist-packages/tensorflow/python/keras/optimizer_v2/optimizer_v2.py:375: UserWarning: The `lr` argument is deprecated, use `learning_rate` instead.\n",
            "  \"The `lr` argument is deprecated, use `learning_rate` instead.\")\n"
          ],
          "name": "stderr"
        }
      ]
    },
    {
      "cell_type": "code",
      "metadata": {
        "colab": {
          "base_uri": "https://localhost:8080/"
        },
        "id": "PmIPqpjd6BuN",
        "outputId": "4adeb8fa-5fdb-4b9f-89ab-a521edd9e52f"
      },
      "source": [
        "\n",
        "history = model.fit(x_train_padding, y_train,validation_split=0.25, epochs=10,\n",
        "                    batch_size=8)"
      ],
      "execution_count": null,
      "outputs": [
        {
          "output_type": "stream",
          "text": [
            "Epoch 1/10\n",
            "295/295 [==============================] - 38s 67ms/step - loss: 1.5787 - accuracy: 0.2667 - val_loss: 1.1611 - val_accuracy: 0.5712\n",
            "Epoch 2/10\n",
            "295/295 [==============================] - 17s 58ms/step - loss: 0.8623 - accuracy: 0.7045 - val_loss: 0.6959 - val_accuracy: 0.7646\n",
            "Epoch 3/10\n",
            "295/295 [==============================] - 17s 59ms/step - loss: 0.3972 - accuracy: 0.8993 - val_loss: 0.6485 - val_accuracy: 0.7799\n",
            "Epoch 4/10\n",
            "295/295 [==============================] - 17s 57ms/step - loss: 0.2233 - accuracy: 0.9586 - val_loss: 0.5745 - val_accuracy: 0.8066\n",
            "Epoch 5/10\n",
            "295/295 [==============================] - 17s 58ms/step - loss: 0.1099 - accuracy: 0.9904 - val_loss: 0.6210 - val_accuracy: 0.7952\n",
            "Epoch 6/10\n",
            "295/295 [==============================] - 17s 58ms/step - loss: 0.0795 - accuracy: 0.9910 - val_loss: 0.6977 - val_accuracy: 0.7824\n",
            "Epoch 7/10\n",
            "295/295 [==============================] - 17s 58ms/step - loss: 0.0493 - accuracy: 0.9968 - val_loss: 0.6467 - val_accuracy: 0.8117\n",
            "Epoch 8/10\n",
            "295/295 [==============================] - 17s 58ms/step - loss: 0.0334 - accuracy: 0.9985 - val_loss: 0.6496 - val_accuracy: 0.8104\n",
            "Epoch 9/10\n",
            "295/295 [==============================] - 17s 58ms/step - loss: 0.0312 - accuracy: 0.9977 - val_loss: 0.6534 - val_accuracy: 0.8219\n",
            "Epoch 10/10\n",
            "295/295 [==============================] - 18s 59ms/step - loss: 0.0200 - accuracy: 0.9981 - val_loss: 0.5760 - val_accuracy: 0.8372\n"
          ],
          "name": "stdout"
        }
      ]
    },
    {
      "cell_type": "code",
      "metadata": {
        "id": "Q4BPxHrBIfni"
      },
      "source": [
        "from keras.models import Sequential\n",
        "from keras.layers import Dense, GRU, Flatten, LSTM\n",
        "from keras.layers.embeddings import Embedding"
      ],
      "execution_count": null,
      "outputs": []
    },
    {
      "cell_type": "markdown",
      "metadata": {
        "id": "ehioWxszLLnL"
      },
      "source": [
        "#GRU"
      ]
    },
    {
      "cell_type": "code",
      "metadata": {
        "colab": {
          "base_uri": "https://localhost:8080/"
        },
        "id": "8ySM8HPGIOGm",
        "outputId": "987a26ab-c88a-4a9c-ca74-e974f514ed36"
      },
      "source": [
        "model2 = Sequential()\n",
        "embedding_dim = 100\n",
        "model2.add(Embedding(input_dim=10000,\n",
        "                    output_dim=embedding_dim,\n",
        "                    input_length=max_tokens,\n",
        "                    name='embedding_layer'))\n",
        "\n",
        "model2.add(GRU(units=32, return_sequences=True, dropout=0.4,\n",
        "               recurrent_dropout=0.2, ))\n",
        "\n",
        "\n",
        "model2.add(GRU(units=8, dropout=0.4 ))\n",
        "\n",
        "\n",
        "model2.add(Dense(5, activation='softmax'))\n",
        "\n",
        "\n",
        "optimizer = Adam(lr=1e-3)\n",
        "\n",
        "model2.compile(loss='sparse_categorical_crossentropy',\n",
        "              optimizer=optimizer,\n",
        "              metrics=['accuracy'])"
      ],
      "execution_count": null,
      "outputs": [
        {
          "output_type": "stream",
          "text": [
            "/usr/local/lib/python3.7/dist-packages/tensorflow/python/keras/optimizer_v2/optimizer_v2.py:375: UserWarning: The `lr` argument is deprecated, use `learning_rate` instead.\n",
            "  \"The `lr` argument is deprecated, use `learning_rate` instead.\")\n"
          ],
          "name": "stderr"
        }
      ]
    },
    {
      "cell_type": "code",
      "metadata": {
        "id": "ByetTBM-iB0o"
      },
      "source": [
        "y_train=np.array(y_train)"
      ],
      "execution_count": null,
      "outputs": []
    },
    {
      "cell_type": "code",
      "metadata": {
        "id": "gblS1cKZY75w",
        "colab": {
          "base_uri": "https://localhost:8080/"
        },
        "outputId": "884f4c12-5652-4c49-d841-2a217b1abcc5"
      },
      "source": [
        "\n",
        "history2 = model2.fit(x_train_padding, y_train,validation_split=0.25, epochs=10,\n",
        "                    batch_size=8)"
      ],
      "execution_count": null,
      "outputs": [
        {
          "output_type": "stream",
          "text": [
            "Epoch 1/10\n",
            "295/295 [==============================] - 21s 43ms/step - loss: 1.4823 - accuracy: 0.3569 - val_loss: 0.5538 - val_accuracy: 0.8664\n",
            "Epoch 2/10\n",
            "295/295 [==============================] - 11s 38ms/step - loss: 0.3142 - accuracy: 0.9330 - val_loss: 0.2540 - val_accuracy: 0.9288\n",
            "Epoch 3/10\n",
            "295/295 [==============================] - 11s 37ms/step - loss: 0.0680 - accuracy: 0.9937 - val_loss: 0.2094 - val_accuracy: 0.9453\n",
            "Epoch 4/10\n",
            "295/295 [==============================] - 11s 36ms/step - loss: 0.0312 - accuracy: 0.9993 - val_loss: 0.1943 - val_accuracy: 0.9478\n",
            "Epoch 5/10\n",
            "295/295 [==============================] - 11s 36ms/step - loss: 0.0188 - accuracy: 0.9994 - val_loss: 0.1883 - val_accuracy: 0.9504\n",
            "Epoch 6/10\n",
            "295/295 [==============================] - 11s 37ms/step - loss: 0.0127 - accuracy: 0.9999 - val_loss: 0.1981 - val_accuracy: 0.9466\n",
            "Epoch 7/10\n",
            "295/295 [==============================] - 11s 36ms/step - loss: 0.0106 - accuracy: 0.9997 - val_loss: 0.2214 - val_accuracy: 0.9440\n",
            "Epoch 8/10\n",
            "295/295 [==============================] - 11s 36ms/step - loss: 0.0084 - accuracy: 0.9998 - val_loss: 0.2747 - val_accuracy: 0.9224\n",
            "Epoch 9/10\n",
            "295/295 [==============================] - 11s 37ms/step - loss: 0.0082 - accuracy: 0.9987 - val_loss: 0.2284 - val_accuracy: 0.9453\n",
            "Epoch 10/10\n",
            "295/295 [==============================] - 11s 36ms/step - loss: 0.0094 - accuracy: 0.9991 - val_loss: 0.2402 - val_accuracy: 0.9415\n"
          ],
          "name": "stdout"
        }
      ]
    },
    {
      "cell_type": "code",
      "metadata": {
        "id": "NL7RMC4KtAgx"
      },
      "source": [
        "model.save(\"sentiment_modelson2.h5\")\n"
      ],
      "execution_count": null,
      "outputs": []
    },
    {
      "cell_type": "code",
      "metadata": {
        "id": "6i_Li8QgHi9l"
      },
      "source": [
        "model.load('/content/sentiment_modelson.h5', )"
      ],
      "execution_count": null,
      "outputs": []
    },
    {
      "cell_type": "code",
      "metadata": {
        "id": "LyIXY6a4tMtm"
      },
      "source": [
        "y_test=np.array(y_test)"
      ],
      "execution_count": null,
      "outputs": []
    },
    {
      "cell_type": "code",
      "metadata": {
        "colab": {
          "base_uri": "https://localhost:8080/"
        },
        "id": "Stoy8y49tIeu",
        "outputId": "91c5d82a-6eb9-454e-b177-1b517087579a"
      },
      "source": [
        "result = model2.evaluate(x_test_padding, y_test)"
      ],
      "execution_count": null,
      "outputs": [
        {
          "output_type": "stream",
          "text": [
            "25/25 [==============================] - 0s 5ms/step - loss: 0.1856 - accuracy: 0.9491\n"
          ],
          "name": "stdout"
        }
      ]
    },
    {
      "cell_type": "markdown",
      "metadata": {
        "id": "gSWXnj6_L6iS"
      },
      "source": [
        "#BiLSTM"
      ]
    },
    {
      "cell_type": "code",
      "metadata": {
        "id": "hArh58tRg2jl"
      },
      "source": [
        "from keras.models import Sequential\n",
        "from keras import layers\n",
        "\n",
        "from keras.layers import Dense, Embedding, LSTM, Bidirectional\n",
        "from keras import regularizers\n",
        "from keras import backend as K\n"
      ],
      "execution_count": null,
      "outputs": []
    },
    {
      "cell_type": "code",
      "metadata": {
        "id": "D25KuTyigeXD"
      },
      "source": [
        "model1 = Sequential()\n",
        "embedding_dim = 128\n",
        "model1.add( Embedding(10000, input_length = max_tokens, output_dim=embedding_dim, ))\n",
        "model1.add( Bidirectional( LSTM( units= 196, dropout = 0.2 )))\n",
        "model1.add( Dense(5, activation = 'softmax'))\n",
        "\n",
        "model1.compile(loss = 'sparse_categorical_crossentropy', optimizer = 'adam', metrics = ['accuracy'])\n"
      ],
      "execution_count": null,
      "outputs": []
    },
    {
      "cell_type": "code",
      "metadata": {
        "colab": {
          "base_uri": "https://localhost:8080/"
        },
        "id": "OXl6JdquLVal",
        "outputId": "2c204fe4-5aa2-4e1d-959e-4d7a900a0a0a"
      },
      "source": [
        "model1.fit(x_train_padding, y_train, epochs= 10, batch_size = 8,  validation_split=0.25)"
      ],
      "execution_count": null,
      "outputs": [
        {
          "output_type": "stream",
          "text": [
            "Epoch 1/10\n",
            "295/295 [==============================] - 33s 93ms/step - loss: 1.3178 - accuracy: 0.4328 - val_loss: 0.2011 - val_accuracy: 0.9351\n",
            "Epoch 2/10\n",
            "295/295 [==============================] - 25s 85ms/step - loss: 0.0810 - accuracy: 0.9778 - val_loss: 0.1883 - val_accuracy: 0.9389\n",
            "Epoch 3/10\n",
            "295/295 [==============================] - 25s 85ms/step - loss: 0.0185 - accuracy: 0.9951 - val_loss: 0.1930 - val_accuracy: 0.9453\n",
            "Epoch 4/10\n",
            "295/295 [==============================] - 25s 85ms/step - loss: 0.0081 - accuracy: 0.9993 - val_loss: 0.1741 - val_accuracy: 0.9504\n",
            "Epoch 5/10\n",
            "295/295 [==============================] - 25s 85ms/step - loss: 0.0012 - accuracy: 0.9999 - val_loss: 0.2174 - val_accuracy: 0.9389\n",
            "Epoch 6/10\n",
            "295/295 [==============================] - 24s 82ms/step - loss: 0.0161 - accuracy: 0.9962 - val_loss: 0.2961 - val_accuracy: 0.9224\n",
            "Epoch 7/10\n",
            "295/295 [==============================] - 24s 82ms/step - loss: 0.0036 - accuracy: 0.9997 - val_loss: 0.2071 - val_accuracy: 0.9402\n",
            "Epoch 8/10\n",
            "295/295 [==============================] - 25s 83ms/step - loss: 0.0022 - accuracy: 0.9998 - val_loss: 0.2020 - val_accuracy: 0.9377\n",
            "Epoch 9/10\n",
            "295/295 [==============================] - 25s 84ms/step - loss: 0.0019 - accuracy: 0.9997 - val_loss: 0.2404 - val_accuracy: 0.9313\n",
            "Epoch 10/10\n",
            "295/295 [==============================] - 25s 86ms/step - loss: 0.0022 - accuracy: 0.9998 - val_loss: 0.2074 - val_accuracy: 0.9364\n"
          ],
          "name": "stdout"
        },
        {
          "output_type": "execute_result",
          "data": {
            "text/plain": [
              "<keras.callbacks.History at 0x7f8a4513e450>"
            ]
          },
          "metadata": {
            "tags": []
          },
          "execution_count": 96
        }
      ]
    },
    {
      "cell_type": "code",
      "metadata": {
        "id": "nPgh9CuWgeiu"
      },
      "source": [
        "y_test=np.array(y_test)"
      ],
      "execution_count": null,
      "outputs": []
    },
    {
      "cell_type": "code",
      "metadata": {
        "id": "kM6fTIT0genM",
        "colab": {
          "base_uri": "https://localhost:8080/"
        },
        "outputId": "ade25aa5-4d95-4351-b8de-569734728ebd"
      },
      "source": [
        "result = model1.evaluate(x_test_padding, y_test)"
      ],
      "execution_count": null,
      "outputs": [
        {
          "output_type": "stream",
          "text": [
            "25/25 [==============================] - 2s 64ms/step - loss: 0.2029 - accuracy: 0.9427\n"
          ],
          "name": "stdout"
        }
      ]
    },
    {
      "cell_type": "markdown",
      "metadata": {
        "id": "d4q-il2qMGF3"
      },
      "source": [
        "#TEST"
      ]
    },
    {
      "cell_type": "code",
      "metadata": {
        "id": "RPyErDnetdt7",
        "colab": {
          "base_uri": "https://localhost:8080/"
        },
        "outputId": "896b03bc-0d60-44cb-d1f8-b11294e03841"
      },
      "source": [
        "text = \"Nasıl özledim bir bilse, ah bir bilseniz \"\n",
        "texts = [text]\n",
        "tokens = tokenizer.texts_to_sequences(texts)\n",
        "tokens_padding = pad_sequences(tokens,maxlen = max_tokens)\n",
        "tokens_padding.shape\n",
        "predict_result=model2.predict_classes(tokens_padding)"
      ],
      "execution_count": null,
      "outputs": [
        {
          "output_type": "stream",
          "text": [
            "/usr/local/lib/python3.7/dist-packages/keras/engine/sequential.py:450: UserWarning: `model.predict_classes()` is deprecated and will be removed after 2021-01-01. Please use instead:* `np.argmax(model.predict(x), axis=-1)`,   if your model does multi-class classification   (e.g. if it uses a `softmax` last-layer activation).* `(model.predict(x) > 0.5).astype(\"int32\")`,   if your model does binary classification   (e.g. if it uses a `sigmoid` last-layer activation).\n",
            "  warnings.warn('`model.predict_classes()` is deprecated and '\n"
          ],
          "name": "stderr"
        }
      ]
    },
    {
      "cell_type": "code",
      "metadata": {
        "id": "jLpwVW4FhJ_y"
      },
      "source": [
        "def result_string(x):\n",
        "    return {\n",
        "         0 : \"Spnuç = kızgın - Cümle = \" + text,\n",
        "         1 : \"Sonuç = korku - Cümle = \" + text,\n",
        "         2 : \"Sonuç = mutlu - Cümle = \" + text,\n",
        "         3 : \"Sonuç = surpriz - Cümle = \" + text,\n",
        "         4 : \"Sonuç = üzgün - Cümle = \"+ text\n",
        "    }[x]\n",
        "   "
      ],
      "execution_count": null,
      "outputs": []
    },
    {
      "cell_type": "code",
      "metadata": {
        "colab": {
          "base_uri": "https://localhost:8080/"
        },
        "id": "q69wW1Twkbi-",
        "outputId": "7c2d7aab-0160-405f-851e-59c39915d66f"
      },
      "source": [
        "print(result_string(predict_result[0]))"
      ],
      "execution_count": null,
      "outputs": [
        {
          "output_type": "stream",
          "text": [
            "Sonuç = korku - Cümle = Nasıl özledim bir bilse, ah bir bilseniz \n"
          ],
          "name": "stdout"
        }
      ]
    },
    {
      "cell_type": "code",
      "metadata": {
        "id": "adTRzfludr71",
        "colab": {
          "base_uri": "https://localhost:8080/"
        },
        "outputId": "f8bb748f-674f-414f-f486-c77b9d7df439"
      },
      "source": [
        ""
      ],
      "execution_count": null,
      "outputs": [
        {
          "output_type": "stream",
          "text": [
            "Sonuç = üzgün - Cümle = En sevdiğim bardağım kırıldığı için ağladım.\n"
          ],
          "name": "stdout"
        }
      ]
    },
    {
      "cell_type": "code",
      "metadata": {
        "colab": {
          "base_uri": "https://localhost:8080/",
          "height": 512
        },
        "id": "b8LQp9TLBoU0",
        "outputId": "b15e99d5-66bb-441d-971d-c1af81c38618"
      },
      "source": [
        "import matplotlib.pyplot as plt\n",
        "plt.figure(figsize = (10,8))\n",
        "plt.plot(history.history['accuracy'])\n",
        "plt.plot(history.history['val_accuracy'])\n",
        "plt.title('Model accuracy')\n",
        "plt.ylabel('Accuracy')\n",
        "plt.xlabel('Epoch')\n",
        "plt.legend(['Train', 'Test'], loc='upper left')\n",
        "plt.show()"
      ],
      "execution_count": null,
      "outputs": [
        {
          "output_type": "display_data",
          "data": {
            "image/png": "[encoded data removed]",
            "text/plain": [
              "<Figure size 720x576 with 1 Axes>"
            ]
          },
          "metadata": {
            "tags": [],
            "needs_background": "light"
          }
        }
      ]
    },
    {
      "cell_type": "code",
      "metadata": {
        "id": "yV1TKkH-2him"
      },
      "source": [
        "from sklearn.model_selection import train_test_split\n",
        "x_train, x_validation_and_test, y_train, y_validation_and_test =train_test_split(tweet,sentiment, test_size = .02,random_state = 42)\n",
        "x_validation, x_test, y_validation, y_test = train_test_split(x_validation_and_test, y_validation_and_test, test_size=.1, random_state=SEED)"
      ],
      "execution_count": null,
      "outputs": []
    },
    {
      "cell_type": "code",
      "metadata": {
        "id": "fEaa3Euz1eFx"
      },
      "source": [
        "from textblob import TextBlob\n",
        "from sklearn.metrics import accuracy_score\n",
        "from sklearn.metrics import classification_report, confusion_matrix"
      ],
      "execution_count": null,
      "outputs": []
    },
    {
      "cell_type": "code",
      "metadata": {
        "colab": {
          "base_uri": "https://localhost:8080/"
        },
        "id": "sH327Vpy3tW3",
        "outputId": "864168ba-2a9b-4a00-eaf0-b3f01032b1a8"
      },
      "source": [
        "%%time\n",
        "tbresult = [TextBlob(i).sentiment.polarity for i in x_validation]\n",
        "tbpred = [0 if n < 0 else 1 for n in tbresult]"
      ],
      "execution_count": null,
      "outputs": [
        {
          "output_type": "stream",
          "text": [
            "CPU times: user 19.3 ms, sys: 0 ns, total: 19.3 ms\n",
            "Wall time: 21.2 ms\n"
          ],
          "name": "stdout"
        }
      ]
    },
    {
      "cell_type": "code",
      "metadata": {
        "colab": {
          "base_uri": "https://localhost:8080/"
        },
        "id": "Tl0-Rc8M3zHr",
        "outputId": "ad8f3fb9-0c12-4181-d928-b17283c86d93"
      },
      "source": [
        "conmat = np.array(confusion_matrix(y_validation, tbpred, labels=[1,0]))\n",
        "\n",
        "confusion = pd.DataFrame(conmat, index=['positive', 'negative'],columns=['predicted_positive','predicted_negative'])\n",
        "print(\"Accuracy Score: {0:.2f}%\".format(accuracy_score(y_validation, tbpred)*100))\n",
        "print(\"-\"*80)\n",
        "print(\"Confusion Matrix\\n\")\n",
        "print(confusion)\n",
        "print(\"-\"*80)\n",
        "print(\"Classification Report\\n\")\n",
        "print(classification_report(y_validation, tbpred))"
      ],
      "execution_count": null,
      "outputs": [
        {
          "output_type": "stream",
          "text": [
            "Accuracy Score: 30.99%\n",
            "--------------------------------------------------------------------------------\n",
            "Confusion Matrix\n",
            "\n",
            "          predicted_positive  predicted_negative\n",
            "positive                  22                   0\n",
            "negative                  10                   0\n",
            "--------------------------------------------------------------------------------\n",
            "Classification Report\n",
            "\n",
            "              precision    recall  f1-score   support\n",
            "\n",
            "           0       0.00      0.00      0.00        10\n",
            "           1       0.31      1.00      0.47        22\n",
            "           2       0.00      0.00      0.00        17\n",
            "           3       0.00      0.00      0.00        10\n",
            "           4       0.00      0.00      0.00        12\n",
            "\n",
            "    accuracy                           0.31        71\n",
            "   macro avg       0.06      0.20      0.09        71\n",
            "weighted avg       0.10      0.31      0.15        71\n",
            "\n"
          ],
          "name": "stdout"
        },
        {
          "output_type": "stream",
          "text": [
            "/usr/local/lib/python3.7/dist-packages/sklearn/metrics/_classification.py:1272: UndefinedMetricWarning: Precision and F-score are ill-defined and being set to 0.0 in labels with no predicted samples. Use `zero_division` parameter to control this behavior.\n",
            "  _warn_prf(average, modifier, msg_start, len(result))\n"
          ],
          "name": "stderr"
        }
      ]
    }
  ]
}